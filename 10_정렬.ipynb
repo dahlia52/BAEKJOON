{
  "nbformat": 4,
  "nbformat_minor": 0,
  "metadata": {
    "colab": {
      "provenance": [],
      "authorship_tag": "ABX9TyN5WE8zGspP0mwISaXUgaM+",
      "include_colab_link": true
    },
    "kernelspec": {
      "name": "python3",
      "display_name": "Python 3"
    },
    "language_info": {
      "name": "python"
    }
  },
  "cells": [
    {
      "cell_type": "markdown",
      "metadata": {
        "id": "view-in-github",
        "colab_type": "text"
      },
      "source": [
        "<a href=\"https://colab.research.google.com/github/dahlia52/BAEKJOON/blob/main/10_%EC%A0%95%EB%A0%AC.ipynb\" target=\"_parent\"><img src=\"https://colab.research.google.com/assets/colab-badge.svg\" alt=\"Open In Colab\"/></a>"
      ]
    },
    {
      "cell_type": "markdown",
      "source": [
        "https://www.acmicpc.net/step/9"
      ],
      "metadata": {
        "id": "hgHQ52aiX0XP"
      }
    },
    {
      "cell_type": "markdown",
      "source": [
        "- 2750번 수 정렬하기"
      ],
      "metadata": {
        "id": "CiEALo1uX2yx"
      }
    },
    {
      "cell_type": "markdown",
      "source": [
        "N개의 수가 주어졌을 때, 이를 오름차순으로 정렬하는 프로그램을 작성하시오."
      ],
      "metadata": {
        "id": "51eWKtUEZZu_"
      }
    },
    {
      "cell_type": "code",
      "execution_count": null,
      "metadata": {
        "colab": {
          "base_uri": "https://localhost:8080/"
        },
        "id": "Jgzgq8_hXvHI",
        "outputId": "77e62b8c-b5d0-4709-ef6d-99894d8d5f8c"
      },
      "outputs": [
        {
          "output_type": "stream",
          "name": "stdout",
          "text": [
            "5\n",
            "5\n",
            "2\n",
            "3\n",
            "4\n",
            "1\n",
            "1\n",
            "2\n",
            "3\n",
            "4\n",
            "5\n"
          ]
        }
      ],
      "source": [
        "n = int(input())\n",
        "list1 = []\n",
        "for i in range(n):\n",
        "  list1.append(int(input()))\n",
        "list1.sort()\n",
        "for i in range(n):\n",
        "  print(list1[i])"
      ]
    },
    {
      "cell_type": "markdown",
      "source": [
        "- 2587번 대표값2"
      ],
      "metadata": {
        "id": "RIRwBUjEX7mm"
      }
    },
    {
      "cell_type": "markdown",
      "source": [
        "어떤 수들이 있을 때, 그 수들을 대표하는 값으로 가장 흔하게 쓰이는 것은 평균이다. 평균은 주어진 모든 수의 합을 수의 개수로 나눈 것이다. 예를 들어 10, 40, 30, 60, 30의 평균은 (10 + 40 + 30 + 60 + 30) / 5 = 170 / 5 = 34가 된다.\n",
        "\n",
        "평균 이외의 또 다른 대표값으로 중앙값이라는 것이 있다. 중앙값은 주어진 수를 크기 순서대로 늘어 놓았을 때 가장 중앙에 놓인 값이다. 예를 들어 10, 40, 30, 60, 30의 경우, 크기 순서대로 늘어 놓으면\n",
        "\n",
        "10 30 30 40 60\n",
        "\n",
        "이 되고 따라서 중앙값은 30이 된다.\n",
        "\n",
        "다섯 개의 자연수가 주어질 때 이들의 평균과 중앙값을 구하는 프로그램을 작성하시오"
      ],
      "metadata": {
        "id": "R4AztpaxZezb"
      }
    },
    {
      "cell_type": "code",
      "source": [
        "list2 = []\n",
        "for i in range(5):\n",
        "  list2.append(int(input()))\n",
        "list2.sort()\n",
        "print(int(sum(list2)/5))\n",
        "print(list2[2])"
      ],
      "metadata": {
        "colab": {
          "base_uri": "https://localhost:8080/"
        },
        "id": "OXW37gUQX9D1",
        "outputId": "99bf6bfd-09ac-436d-b041-6bfd1b82e4fa"
      },
      "execution_count": null,
      "outputs": [
        {
          "output_type": "stream",
          "name": "stdout",
          "text": [
            "10\n",
            "40\n",
            "30\n",
            "60\n",
            "30\n",
            "34\n",
            "30\n"
          ]
        }
      ]
    },
    {
      "cell_type": "markdown",
      "source": [
        "- 25305번\t 커트라인"
      ],
      "metadata": {
        "id": "Ex9aEAJ6X-pO"
      }
    },
    {
      "cell_type": "markdown",
      "source": [
        "2022 연세대학교 미래캠퍼스 슬기로운 코딩생활에 $N$명의 학생들이 응시했다.\n",
        "\n",
        "이들 중 점수가 가장 높은 $k$명은 상을 받을 것이다. 이 때, 상을 받는 커트라인이 몇 점인지 구하라.\n",
        "\n",
        "커트라인이란 상을 받는 사람들 중 점수가 가장 가장 낮은 사람의 점수를 말한다."
      ],
      "metadata": {
        "id": "ZZhrAol-Z_ni"
      }
    },
    {
      "cell_type": "code",
      "source": [
        "n, k = map(int, input().split())\n",
        "score = list(map(int, input().split()))\n",
        "score.sort()\n",
        "print(score[-k])"
      ],
      "metadata": {
        "colab": {
          "base_uri": "https://localhost:8080/"
        },
        "id": "a9YOWb8MYAhn",
        "outputId": "0926ba3f-cf44-4ab8-adb9-ae376859fbc7"
      },
      "execution_count": null,
      "outputs": [
        {
          "output_type": "stream",
          "name": "stdout",
          "text": [
            "5 2\n",
            "100 76 85 93 98\n",
            "98\n"
          ]
        }
      ]
    },
    {
      "cell_type": "markdown",
      "source": [
        "-\t2751번 수 정렬하기 2"
      ],
      "metadata": {
        "id": "lOslG1INYB-4"
      }
    },
    {
      "cell_type": "markdown",
      "source": [
        "N개의 수가 주어졌을 때, 이를 오름차순으로 정렬하는 프로그램을 작성하시오."
      ],
      "metadata": {
        "id": "8U8Mhjo-a-Kg"
      }
    },
    {
      "cell_type": "code",
      "source": [
        "# 시간초과\n",
        "n = int(input())\n",
        "list3 = []\n",
        "for i in range(n):\n",
        "  list3.append(int(input()))\n",
        "list3.sort()\n",
        "for i in range(n):\n",
        "  print(list3[i])"
      ],
      "metadata": {
        "colab": {
          "base_uri": "https://localhost:8080/"
        },
        "id": "4hexaoavYDTB",
        "outputId": "ad14e57f-a3da-48e7-ea33-0afc19cef291"
      },
      "execution_count": null,
      "outputs": [
        {
          "output_type": "stream",
          "name": "stdout",
          "text": [
            "5\n",
            "5\n",
            "4\n",
            "3\n",
            "2\n",
            "1\n",
            "1\n",
            "2\n",
            "3\n",
            "4\n",
            "5\n"
          ]
        }
      ]
    },
    {
      "cell_type": "markdown",
      "source": [
        "위 코드를 Python 대신 PyPy3에서 실행 시, 시간초과 X\n",
        "\n",
        "PyPy3는 실행 시 자주 쓰이는 코드를 캐싱하는 기능이 있기 때문에 즉, 메모리를 조금 더 사용하여 저장하고 있어 실행속도를 개선할 수 있음.\n",
        "\n",
        "  - 간단한 코드에서는 Python3가 메모리, 속도 측에서 우세함.\n",
        "\n",
        "  - 복잡한 코드(반복)을 사용하는 경우에는 PyPy3가 우세함.\n",
        "\n",
        "\n"
      ],
      "metadata": {
        "id": "0IgZIKT0jBpo"
      }
    },
    {
      "cell_type": "markdown",
      "source": [
        "시간 초과 해결 >> input() 대신 sys.stdin.readline() 이용\n",
        "\n",
        "input()함수는 promt message를 출력하고 개행 문자를 삭제한 값(rstrip() 적용)을 리턴하기 때문에 느림. \n",
        "\n",
        "  참고: https://lute3r.tistory.com/m/240"
      ],
      "metadata": {
        "id": "3M7tupMChv75"
      }
    },
    {
      "cell_type": "code",
      "source": [
        "import sys\n",
        "n = int(input())\n",
        "list3 = []\n",
        "for i in range(n):\n",
        "  list3.append(int(sys.stdin.readline()))\n",
        "list3.sort()\n",
        "for i in range(n):\n",
        "  print(list3[i])"
      ],
      "metadata": {
        "id": "nmPiphWYhHAt"
      },
      "execution_count": null,
      "outputs": []
    },
    {
      "cell_type": "code",
      "source": [
        "# 합병정렬 - 시간초과\n",
        "import sys\n",
        "sys.setrecursionlimit(10**4)\n",
        "def merge_sort(v):\n",
        "  if len(v) <=1:\n",
        "    return v\n",
        "  mid = len(v)//2\n",
        "  left = merge_sort(v[:mid])\n",
        "  right = merge_sort(v[mid:])\n",
        "\n",
        "  i, j, k = 0, 0, 0\n",
        "  while (i< mid and j < len(right)):\n",
        "    if left[i] > right[j]:\n",
        "      v[k] = right[j]\n",
        "      j+=1\n",
        "    else:\n",
        "      v[k] = left[i]\n",
        "      i+=1\n",
        "    k+=1\n",
        "  while i < mid:\n",
        "    v[k] = left[i]\n",
        "    k+=1\n",
        "    i+=1\n",
        "  while j < len(right):\n",
        "    v[k] = right[j]\n",
        "    k+=1\n",
        "    j+=1\n",
        "  return v\n",
        "  \n",
        "n = int(input())\n",
        "list3 = []\n",
        "for i in range(n):\n",
        "  list3.append(int(sys.stdin.readline()))\n",
        "list3 = merge_sort(list3)\n",
        "for i in list3:\n",
        "  print(i)"
      ],
      "metadata": {
        "colab": {
          "base_uri": "https://localhost:8080/"
        },
        "id": "d6akgWdFkLXD",
        "outputId": "568b5f67-bdca-4c55-97aa-0beb1151c650"
      },
      "execution_count": null,
      "outputs": [
        {
          "output_type": "stream",
          "name": "stdout",
          "text": [
            "5\n",
            "2\n",
            "5\n",
            "4\n",
            "3\n",
            "1\n",
            "1\n",
            "2\n",
            "3\n",
            "4\n",
            "5\n"
          ]
        }
      ]
    },
    {
      "cell_type": "markdown",
      "source": [
        "- 10989번 수 정렬하기 3"
      ],
      "metadata": {
        "id": "Yw4p9aR7YEeO"
      }
    },
    {
      "cell_type": "markdown",
      "source": [
        "N개의 수가 주어졌을 때, 이를 오름차순으로 정렬하는 프로그램을 작성하시오."
      ],
      "metadata": {
        "id": "wzwOpmza2rzE"
      }
    },
    {
      "cell_type": "code",
      "source": [
        "# 시간 초과\n",
        "import sys\n",
        "n = int(input())\n",
        "list3 = []\n",
        "for i in range(n):\n",
        "  list3.append(int(input()))\n",
        "list3.sort()\n",
        "for i in range(n):\n",
        "  print(list3[i])"
      ],
      "metadata": {
        "id": "ZXqpV0OZYGF2"
      },
      "execution_count": null,
      "outputs": []
    },
    {
      "cell_type": "markdown",
      "source": [
        "- 시간 초과 해결 >> for 문에서 append를 사용하면 메모리 재할당이 이루어져 효율적이지 않음. 입력값이 1000까지 주어질 수 있으므로 이 크기의 **리스트를 만들어놓고, 입력을 받을 때마다 +1을 해줌**."
      ],
      "metadata": {
        "id": "-8mz5_1ecQDB"
      }
    },
    {
      "cell_type": "markdown",
      "source": [
        "참고: https://yoonsang-it.tistory.com/49"
      ],
      "metadata": {
        "id": "lcTigKqHW1VR"
      }
    },
    {
      "cell_type": "code",
      "source": [
        "list4 = [0]*10000\n",
        "n = int(input())\n",
        "for i in range(n):\n",
        "  list4[int(input())-1] += 1\n",
        "for i in range(10000):\n",
        "  for j in range(list4[i]):\n",
        "    print(i+1)"
      ],
      "metadata": {
        "colab": {
          "base_uri": "https://localhost:8080/"
        },
        "id": "VFHpXs_UcOKE",
        "outputId": "ce072249-e319-42f8-d4aa-6cd647515640"
      },
      "execution_count": null,
      "outputs": [
        {
          "output_type": "stream",
          "name": "stdout",
          "text": [
            "10\n",
            "5\n",
            "2\n",
            "1\n",
            "3\n",
            "4\n",
            "2\n",
            "3\n",
            "5\n",
            "1\n",
            "7\n",
            "1\n",
            "1\n",
            "2\n",
            "2\n",
            "3\n",
            "3\n",
            "4\n",
            "5\n",
            "5\n",
            "7\n"
          ]
        }
      ]
    },
    {
      "cell_type": "code",
      "source": [
        "import sys\n",
        "list4 = [0]*10000\n",
        "n = int(input())\n",
        "for i in range(n):\n",
        "  list4[int(sys.stdin.readline())-1] += 1\n",
        "for i in range(10000):\n",
        "  for j in range(list4[i]):\n",
        "    print(i+1)"
      ],
      "metadata": {
        "id": "OdjzCqJWhH_T"
      },
      "execution_count": null,
      "outputs": []
    },
    {
      "cell_type": "markdown",
      "source": [
        "- 2108번 통계학"
      ],
      "metadata": {
        "id": "R-UbOJEBYOaP"
      }
    },
    {
      "cell_type": "markdown",
      "source": [
        "수를 처리하는 것은 통계학에서 상당히 중요한 일이다. 통계학에서 N개의 수를 대표하는 기본 통계값에는 다음과 같은 것들이 있다. 단, N은 홀수라고 가정하자.\n",
        "\n",
        "산술평균 : N개의 수들의 합을 N으로 나눈 값\n",
        "\n",
        "중앙값 : N개의 수들을 증가하는 순서로 나열했을 경우 그 중앙에 위치하는 값\n",
        "\n",
        "최빈값 : N개의 수들 중 가장 많이 나타나는 값\n",
        "\n",
        "범위 : N개의 수들 중 최댓값과 최솟값의 차이\n",
        "\n",
        "N개의 수가 주어졌을 때, 네 가지 기본 통계값을 구하는 프로그램을 작성하시오."
      ],
      "metadata": {
        "id": "Bj688yF0gClC"
      }
    },
    {
      "cell_type": "code",
      "source": [
        "# 시간초과 예상됨\n",
        "n = int(input())\n",
        "list5 = []\n",
        "for i in range(n):\n",
        "  list5.append(int(input()))\n",
        "list5.sort()\n",
        "ct = []\n",
        "max_ct = 0\n",
        "for i in list(set(list5)):\n",
        "  k = list5.count(i)\n",
        "  if max_ct < k:\n",
        "    ct = []\n",
        "    max_ct = k\n",
        "    ct.append(i)\n",
        "  elif max_ct == k:\n",
        "    ct.append(i)\n",
        "ct.sort()\n",
        "if len(ct)>=2:\n",
        "  mode = ct[1]\n",
        "else:\n",
        "  mode = ct[0]\n",
        "print(int(round(sum(list5)/n, 0)))\n",
        "print(list5[n//2])\n",
        "print(mode)\n",
        "print(max(list5) - min(list5))"
      ],
      "metadata": {
        "id": "fVTy0KREiTSb",
        "colab": {
          "base_uri": "https://localhost:8080/"
        },
        "outputId": "ec5136fd-4009-4f23-8066-cc6db420385e"
      },
      "execution_count": 32,
      "outputs": [
        {
          "output_type": "stream",
          "name": "stdout",
          "text": [
            "5\n",
            "1\n",
            "3\n",
            "8\n",
            "-2\n",
            "2\n",
            "2\n",
            "2\n",
            "1\n",
            "10\n"
          ]
        }
      ]
    },
    {
      "cell_type": "code",
      "source": [
        "n = int(input())\n",
        "list5 = []\n",
        "ct = [0 for i in range(8001)]\n",
        "for i in range(n):\n",
        "  k = int(input())\n",
        "  list5.append(k)\n",
        "  ct[k+4000] += 1\n",
        "ct_index = []\n",
        "for i in range(len(ct)):\n",
        "  if ct[i] == max(ct):\n",
        "    ct_index.append(i-4000)\n",
        "list5.sort()\n",
        "print(int(round(sum(list5)/n, 0)))\n",
        "print(list5[n//2])\n",
        "if len(ct_index) == 1:\n",
        "  print(ct_index[0])\n",
        "else:\n",
        "  print(ct_index[1])\n",
        "print(max(list5) - min(list5))"
      ],
      "metadata": {
        "colab": {
          "base_uri": "https://localhost:8080/"
        },
        "id": "-YME4qWCt9Bo",
        "outputId": "6d413f0d-f764-47cd-ff6d-c6c938fec41d"
      },
      "execution_count": 35,
      "outputs": [
        {
          "output_type": "stream",
          "name": "stdout",
          "text": [
            "1\n",
            "4000\n",
            "4000\n",
            "4000\n",
            "4000\n",
            "0\n"
          ]
        }
      ]
    },
    {
      "cell_type": "code",
      "source": [
        "# 맞음\n",
        "import sys\n",
        "n = int(input())\n",
        "list5 = []\n",
        "ct = [0 for i in range(8001)]\n",
        "for i in range(n):\n",
        "  k = int(sys.stdin.readline())\n",
        "  list5.append(k)\n",
        "  ct[k+4000] += 1\n",
        "ct_index = []\n",
        "for i in range(len(ct)):\n",
        "  if ct[i] == max(ct):\n",
        "    ct_index.append(i-4000)\n",
        "list5.sort()\n",
        "print(int(round(sum(list5)/n, 0)))\n",
        "print(list5[n//2])\n",
        "if len(ct_index) == 1:\n",
        "  print(ct_index[0])\n",
        "else:\n",
        "  print(ct_index[1])\n",
        "print(max(list5) - min(list5))"
      ],
      "metadata": {
        "id": "UxDG_wOUtr6Y"
      },
      "execution_count": null,
      "outputs": []
    },
    {
      "cell_type": "markdown",
      "source": [
        "- Counter 라이브러리 이용\n",
        "\n",
        "colors = Counter(['A','B','A'])\n",
        "\n",
        "colors.most_common()\n",
        "\n",
        "참고: https://velog.io/@jaenny/%EB%B0%B1%EC%A4%80-2108-%ED%86%B5%EA%B3%84%ED%95%99-Python%ED%8C%8C%EC%9D%B4%EC%8D%AC"
      ],
      "metadata": {
        "id": "Zpr-1U5-w6bK"
      }
    },
    {
      "cell_type": "code",
      "source": [
        "from collections import Counter\n",
        "n = int(input())\n",
        "list5 = []\n",
        "for i in range(n):\n",
        "  list5.append(int(input()))\n",
        "list5.sort()\n",
        "list6 = Counter(list5).most_common()\n",
        "print(int(round(sum(list5)/n, 0)))\n",
        "print(list5[n//2])\n",
        "if len(list6) >= 2:\n",
        "  print(list6[1][0])\n",
        "else:\n",
        "  print(list6[0][0])\n",
        "print(max(list5) - min(list5))"
      ],
      "metadata": {
        "colab": {
          "base_uri": "https://localhost:8080/"
        },
        "id": "Ut6WcAU0w1yj",
        "outputId": "0077bc30-b49a-4369-ec81-1cd9b352c658"
      },
      "execution_count": 38,
      "outputs": [
        {
          "output_type": "stream",
          "name": "stdout",
          "text": [
            "5\n",
            "-1\n",
            "-2\n",
            "-3\n",
            "-1\n",
            "-2\n",
            "-2\n",
            "-2\n",
            "-1\n",
            "2\n"
          ]
        }
      ]
    },
    {
      "cell_type": "markdown",
      "source": [
        "-\t1427번 소트인사이드"
      ],
      "metadata": {
        "id": "5O1kKRXFYRPf"
      }
    },
    {
      "cell_type": "markdown",
      "source": [
        "배열을 정렬하는 것은 쉽다. 수가 주어지면, 그 수의 각 자리수를 내림차순으로 정렬해보자."
      ],
      "metadata": {
        "id": "po48hcEY0qnm"
      }
    },
    {
      "cell_type": "code",
      "source": [
        "a = input()\n",
        "list1 = []\n",
        "for i in range(len(a)):\n",
        "  list1.append(a[i])\n",
        "list1.sort(reverse=True)\n",
        "for i in range(len(a)):\n",
        "  print(list1[i], end=\"\")"
      ],
      "metadata": {
        "id": "Tru5y1SBYSe3",
        "colab": {
          "base_uri": "https://localhost:8080/"
        },
        "outputId": "20a1d34b-6935-4cb5-dc6d-cde54f23ff64"
      },
      "execution_count": null,
      "outputs": [
        {
          "output_type": "stream",
          "name": "stdout",
          "text": [
            "500613009\n",
            "965310000"
          ]
        }
      ]
    },
    {
      "cell_type": "markdown",
      "source": [
        "-\t11650번 좌표 정렬하기"
      ],
      "metadata": {
        "id": "31ewKfhJYVzF"
      }
    },
    {
      "cell_type": "markdown",
      "source": [
        "첫째 줄에 점의 개수 N (1 ≤ N ≤ 100,000)이 주어진다. 둘째 줄부터 N개의 줄에는 i번점의 위치 xi와 yi가 주어진다. (-100,000 ≤ xi, yi ≤ 100,000) 좌표는 항상 정수이고, 위치가 같은 두 점은 없다."
      ],
      "metadata": {
        "id": "K6qxE501ABAA"
      }
    },
    {
      "cell_type": "code",
      "source": [
        "# 시간 초과\n",
        "n = int(input())\n",
        "x_list = []\n",
        "y_list = []\n",
        "y_list_sorted = []\n",
        "for i in range(n):\n",
        "  a,b = map(int, input().split())\n",
        "  x_list.append(a)\n",
        "  y_list.append(b)\n",
        "x_list_sorted = sorted(x_list) # x좌표 정렬\n",
        "for i in set(x_list_sorted): # x좌표에 따른 y좌표 정렬\n",
        "  for j in range(n):\n",
        "    if i == x_list[j]:\n",
        "      y_list_sorted.append(y_list[j])\n",
        "for i in set(x_list_sorted): # x좌표가 동일한 경우에 대해 y좌표 정렬\n",
        "  ct = x_list.count(i)\n",
        "  if ct >= 2:\n",
        "    y_list_sorted[x_list_sorted.index(i):x_list_sorted.index(i)+ct+1] = sorted(y_list_sorted[x_list_sorted.index(i):x_list_sorted.index(i)+ct+1])\n",
        "for i in range(n):\n",
        "  print(x_list_sorted[i], y_list_sorted[i])"
      ],
      "metadata": {
        "id": "kePjCq1VYW7u",
        "colab": {
          "base_uri": "https://localhost:8080/"
        },
        "outputId": "220ed7db-a30a-4587-c734-9badf172b72c"
      },
      "execution_count": null,
      "outputs": [
        {
          "output_type": "stream",
          "name": "stdout",
          "text": [
            "5\n",
            "3 4\n",
            "1 1\n",
            "1 -1\n",
            "2 2\n",
            "3 3\n",
            "1 -1\n",
            "1 1\n",
            "2 2\n",
            "3 3\n",
            "3 4\n"
          ]
        }
      ]
    },
    {
      "cell_type": "code",
      "source": [
        "# 시간초과\n",
        "n = int(input())\n",
        "x_list = []\n",
        "y_list = []\n",
        "y_list_sorted = []\n",
        "for i in range(n):\n",
        "  a,b = map(int, input().split())\n",
        "  x_list.append(a)\n",
        "  y_list.append(b)\n",
        "x_list_sorted = sorted(x_list) # x좌표 정렬\n",
        "for i in set(x_list_sorted): # x좌표에 따른 y좌표 정렬\n",
        "  dup = []\n",
        "  for j in range(n):\n",
        "    if i == x_list[j]:\n",
        "      dup.append(y_list[j])\n",
        "      dup.sort()\n",
        "  y_list_sorted += dup\n",
        "for i in range(n):\n",
        "  print(x_list_sorted[i], y_list_sorted[i])"
      ],
      "metadata": {
        "colab": {
          "base_uri": "https://localhost:8080/"
        },
        "id": "ZSbPYNVUD9Fl",
        "outputId": "2d131464-3021-4e7d-b2bf-528d00c4394d"
      },
      "execution_count": null,
      "outputs": [
        {
          "output_type": "stream",
          "name": "stdout",
          "text": [
            "5\n",
            "3 4\n",
            "1 1\n",
            "1 -1\n",
            "2 2\n",
            "3 3\n",
            "1 -1\n",
            "1 1\n",
            "2 2\n",
            "3 3\n",
            "3 4\n"
          ]
        }
      ]
    },
    {
      "cell_type": "markdown",
      "source": [
        "- **list.sort(key=lambda x: 정렬을 목적으로 하는 함수)**\n",
        "   \n",
        "   ex. list.sort(key=lambda x: len(x))\n",
        "\n",
        "- **sorted(list, key=함수)**\n",
        "\n",
        "  ex. sorted(list, key=len)"
      ],
      "metadata": {
        "id": "_M3ofPLnnFUL"
      }
    },
    {
      "cell_type": "markdown",
      "source": [
        "참고: https://pacific-ocean.tistory.com/139"
      ],
      "metadata": {
        "id": "fqc0Mi3KWbVh"
      }
    },
    {
      "cell_type": "code",
      "source": [
        "n = int(input())\n",
        "xy = []\n",
        "for i in range(n):\n",
        "  xy.append(list(map(int, input().split())))\n",
        "xy.sort(key=lambda x: (x[0], x[1]))\n",
        "for i in range(n):\n",
        "  print(xy[i][0], xy[i][1])"
      ],
      "metadata": {
        "colab": {
          "base_uri": "https://localhost:8080/"
        },
        "id": "XeiKjyGan3VI",
        "outputId": "f21b4445-a1ea-40dd-d29b-3da27a5003f5"
      },
      "execution_count": null,
      "outputs": [
        {
          "output_type": "stream",
          "name": "stdout",
          "text": [
            "5\n",
            "3 4\n",
            "1 1\n",
            "1 -1\n",
            "2 2\n",
            "3 3\n",
            "1 -1\n",
            "1 1\n",
            "2 2\n",
            "3 3\n",
            "3 4\n"
          ]
        }
      ]
    },
    {
      "cell_type": "code",
      "source": [
        "import sys\n",
        "n = int(input())\n",
        "xy = []\n",
        "for i in range(n):\n",
        "  xy.append(list(map(int, sys.stdin.readline().split())))\n",
        "xy.sort(key=lambda x: (x[0], x[1]))\n",
        "for i in range(n):\n",
        "  print(xy[i][0], xy[i][1])"
      ],
      "metadata": {
        "id": "U_iuowJxq4qi"
      },
      "execution_count": null,
      "outputs": []
    },
    {
      "cell_type": "markdown",
      "source": [
        "- **리스트 안에 리스트 형태로 넣으면 내장함수 sort, sorted가 알아서 정렬**"
      ],
      "metadata": {
        "id": "RqlRdgc6qCXC"
      }
    },
    {
      "cell_type": "code",
      "source": [
        "list1 = [[3,3],[1,9],[4,2],[1,2],[3,1]]\n",
        "list1.sort()\n",
        "list1"
      ],
      "metadata": {
        "colab": {
          "base_uri": "https://localhost:8080/"
        },
        "id": "-qWZaw_5qHL_",
        "outputId": "5130f8f8-0459-4b6c-bff3-c541a74908f9"
      },
      "execution_count": null,
      "outputs": [
        {
          "output_type": "execute_result",
          "data": {
            "text/plain": [
              "[[1, 2], [1, 9], [3, 1], [3, 3], [4, 2]]"
            ]
          },
          "metadata": {},
          "execution_count": 71
        }
      ]
    },
    {
      "cell_type": "markdown",
      "source": [
        "참고: https://wook-2124.tistory.com/464"
      ],
      "metadata": {
        "id": "OtXVWko4Wizh"
      }
    },
    {
      "cell_type": "code",
      "source": [
        "n = int(input())\n",
        "xy = []\n",
        "for i in range(n):\n",
        "  xy.append(list(map(int, input().split())))\n",
        "xy.sort()\n",
        "for i in range(n):\n",
        "  print(xy[i][0], xy[i][1])"
      ],
      "metadata": {
        "colab": {
          "base_uri": "https://localhost:8080/"
        },
        "id": "cvFSMeGWqJbN",
        "outputId": "8b1aeaea-d96e-4aea-be78-f42af8e84033"
      },
      "execution_count": null,
      "outputs": [
        {
          "output_type": "stream",
          "name": "stdout",
          "text": [
            "5\n",
            "3 4\n",
            "1 1\n",
            "1 -1\n",
            "2 2\n",
            "3 3\n",
            "1 -1\n",
            "1 1\n",
            "2 2\n",
            "3 3\n",
            "3 4\n"
          ]
        }
      ]
    },
    {
      "cell_type": "code",
      "source": [
        "import sys\n",
        "n = int(input())\n",
        "xy = []\n",
        "for i in range(n):\n",
        "  xy.append(list(map(int, sys.stdin.readline().split())))\n",
        "xy.sort()\n",
        "for i in range(n):\n",
        "  print(xy[i][0], xy[i][1])"
      ],
      "metadata": {
        "id": "Q0SH7lxyq8Tb"
      },
      "execution_count": null,
      "outputs": []
    },
    {
      "cell_type": "markdown",
      "source": [
        " - 11651번 좌표 정렬하기 2"
      ],
      "metadata": {
        "id": "ou6C3Qd7YX9k"
      }
    },
    {
      "cell_type": "markdown",
      "source": [
        "2차원 평면 위의 점 N개가 주어진다. 좌표를 y좌표가 증가하는 순으로, y좌표가 같으면 x좌표가 증가하는 순서로 정렬한 다음 출력하는 프로그램을 작성하시오."
      ],
      "metadata": {
        "id": "tseeZjHlrKSt"
      }
    },
    {
      "cell_type": "code",
      "source": [
        "import sys\n",
        "n = int(input())\n",
        "xy = []\n",
        "for i in range(n):\n",
        "  xy.append(list(map(int, input().split())))\n",
        "xy.sort(key=lambda x: (x[1], x[0]))\n",
        "for i in range(n):\n",
        "  print(xy[i][0], xy[i][1])"
      ],
      "metadata": {
        "id": "XheFThhXYb4B",
        "colab": {
          "base_uri": "https://localhost:8080/"
        },
        "outputId": "b632e05b-9645-43ab-c2b1-d37e35f7a9f0"
      },
      "execution_count": null,
      "outputs": [
        {
          "output_type": "stream",
          "name": "stdout",
          "text": [
            "5\n",
            "0 4\n",
            "1 2\n",
            "1 -1\n",
            "2 2\n",
            "3 3\n",
            "1 -1\n",
            "1 2\n",
            "2 2\n",
            "3 3\n",
            "0 4\n"
          ]
        }
      ]
    },
    {
      "cell_type": "code",
      "source": [
        "import sys\n",
        "n = int(input())\n",
        "xy = []\n",
        "for i in range(n):\n",
        "  xy.append(list(map(int, sys.stdin.readline().split())))\n",
        "xy.sort(key=lambda x: (x[1], x[0]))\n",
        "for i in range(n):\n",
        "  print(xy[i][0], xy[i][1])"
      ],
      "metadata": {
        "id": "HbWofBcAr3G6"
      },
      "execution_count": null,
      "outputs": []
    },
    {
      "cell_type": "markdown",
      "source": [
        "- 1181번 단어 정렬"
      ],
      "metadata": {
        "id": "GFHeRVsaYdM2"
      }
    },
    {
      "cell_type": "markdown",
      "source": [
        "알파벳 소문자로 이루어진 N개의 단어가 들어오면 아래와 같은 조건에 따라 정렬하는 프로그램을 작성하시오.\n",
        "\n",
        "1. 길이가 짧은 것부터\n",
        "2. 길이가 같으면 사전 순으로"
      ],
      "metadata": {
        "id": "iU34pP3JsOC7"
      }
    },
    {
      "cell_type": "code",
      "source": [
        "n = int(input())\n",
        "words = []\n",
        "for i in range(n):\n",
        "  words.append(input())\n",
        "words = list(set(words))\n",
        "words.sort(key=lambda x: (len(x), x))\n",
        "for w in words:\n",
        "  print(w)"
      ],
      "metadata": {
        "id": "A5546W1GYe70",
        "colab": {
          "base_uri": "https://localhost:8080/"
        },
        "outputId": "62d7341d-b7e2-427e-f912-5a8d6ce695e3"
      },
      "execution_count": null,
      "outputs": [
        {
          "output_type": "stream",
          "name": "stdout",
          "text": [
            "13\n",
            "but\n",
            "i\n",
            "wont\n",
            "hesitate\n",
            "no\n",
            "more\n",
            "no\n",
            "more\n",
            "it\n",
            "cannot\n",
            "wait\n",
            "im\n",
            "yours\n",
            "i\n",
            "im\n",
            "it\n",
            "no\n",
            "but\n",
            "more\n",
            "wait\n",
            "wont\n",
            "yours\n",
            "cannot\n",
            "hesitate\n"
          ]
        }
      ]
    },
    {
      "cell_type": "code",
      "source": [
        "# 출력 형식이 잘못됨 - sys.stdin.readline()은 \\n\\을 포함하는 입력이기 때문에 연속으로 값을 입력받는 for문에서 에러 발생\n",
        "import sys\n",
        "n = int(input())\n",
        "words = []\n",
        "for i in range(n):\n",
        "  words.append(sys.stdin.readline())\n",
        "words = list(set(words))\n",
        "words.sort(key=lambda x: (len(x), x))\n",
        "for w in words:\n",
        "  print(w)"
      ],
      "metadata": {
        "id": "h5CK5sYdtHjW"
      },
      "execution_count": null,
      "outputs": []
    },
    {
      "cell_type": "markdown",
      "source": [
        "참고: https://velog.io/@1204jh/1181"
      ],
      "metadata": {
        "id": "3fPCAedgWHLY"
      }
    },
    {
      "cell_type": "code",
      "source": [
        "# strip() 추가\n",
        "import sys\n",
        "n = int(input())\n",
        "words = []\n",
        "for i in range(n):\n",
        "  words.append(sys.stdin.readline().strip())\n",
        "words = list(set(words))\n",
        "words.sort(key=lambda x: (len(x), x))\n",
        "for w in words:\n",
        "  print(w)"
      ],
      "metadata": {
        "id": "QjSdocPrxj27"
      },
      "execution_count": null,
      "outputs": []
    },
    {
      "cell_type": "markdown",
      "source": [
        "- 10814번 나이순 정렬"
      ],
      "metadata": {
        "id": "9PTbapX9YkRA"
      }
    },
    {
      "cell_type": "markdown",
      "source": [
        "온라인 저지에 가입한 사람들의 나이와 이름이 가입한 순서대로 주어진다. 이때, 회원들을 나이가 증가하는 순으로, 나이가 같으면 먼저 가입한 사람이 앞에 오는 순서로 정렬하는 프로그램을 작성하시오."
      ],
      "metadata": {
        "id": "nNQW13L3xyyU"
      }
    },
    {
      "cell_type": "code",
      "source": [
        "n = int(input())\n",
        "mem = []\n",
        "for i in range(n):\n",
        "  mem.append(list(input().split())+[str(i)])\n",
        "mem.sort(key=lambda x: (int(x[0]), int(x[2]))) # 나이, 인덱스 비교시에는 숫자형으로\n",
        "for i in range(n):\n",
        "  print(mem[i][0], mem[i][1])"
      ],
      "metadata": {
        "id": "jlDviWbvYl9F",
        "colab": {
          "base_uri": "https://localhost:8080/"
        },
        "outputId": "5be71fc1-a0ca-4ebe-a8a0-b382b70d0aa3"
      },
      "execution_count": null,
      "outputs": [
        {
          "output_type": "stream",
          "name": "stdout",
          "text": [
            "5\n",
            "7 June\n",
            "29 He\n",
            "28 she\n",
            "7 ke\n",
            "7 skf\n",
            "7 June\n",
            "7 ke\n",
            "7 skf\n",
            "28 she\n",
            "29 He\n"
          ]
        }
      ]
    },
    {
      "cell_type": "code",
      "source": [
        "import sys\n",
        "n = int(input())\n",
        "mem = []\n",
        "for i in range(n):\n",
        "  mem.append(list(sys.stdin.readline().split())+[str(i)])\n",
        "mem.sort(key=lambda x: (int(x[0]), int(x[2])))\n",
        "for i in range(n):\n",
        "  print(mem[i][0], mem[i][1])"
      ],
      "metadata": {
        "id": "fO2rwUkoy9Ad"
      },
      "execution_count": null,
      "outputs": []
    },
    {
      "cell_type": "markdown",
      "source": [
        "-\t18870번 좌표 압축"
      ],
      "metadata": {
        "id": "Spo7WWoEYnV2"
      }
    },
    {
      "cell_type": "markdown",
      "source": [
        "수직선 위에 N개의 좌표 X1, X2, ..., XN이 있다. 이 좌표에 좌표 압축을 적용하려고 한다.\n",
        "\n",
        "Xi를 좌표 압축한 결과 X'i의 값은 Xi > Xj를 만족하는 서로 다른 좌표의 개수와 같아야 한다.\n",
        "\n",
        "X1, X2, ..., XN에 좌표 압축을 적용한 결과 X'1, X'2, ..., X'N를 출력해보자."
      ],
      "metadata": {
        "id": "KfyvweT3zuSY"
      }
    },
    {
      "cell_type": "code",
      "source": [
        "# 시간초과 - index(): O(n)\n",
        "n = int(input())\n",
        "coord = list(map(int, input().split()))\n",
        "coord_sort = sorted(list(set(coord))) # 정렬 후 인덱스 값을 프린트하면 됨\n",
        "for num in coord:\n",
        "  print(coord_sort.index(num), end=\" \")"
      ],
      "metadata": {
        "id": "rJ3C-HnSYogY",
        "colab": {
          "base_uri": "https://localhost:8080/"
        },
        "outputId": "eead170d-5abf-4ff3-a4db-009c351fd59e"
      },
      "execution_count": null,
      "outputs": [
        {
          "output_type": "stream",
          "name": "stdout",
          "text": [
            "5\n",
            "2 4 -10 4 -9\n",
            "2 3 0 3 1 "
          ]
        }
      ]
    },
    {
      "cell_type": "markdown",
      "source": [
        "참고: https://gudwns1243.tistory.com/52"
      ],
      "metadata": {
        "id": "MFWvQetNV75x"
      }
    },
    {
      "cell_type": "code",
      "source": [
        "# dict[i] - O(1)\n",
        "n = int(input())\n",
        "coord = list(map(int, input().split()))\n",
        "coord_sort = sorted(list(set(coord))) \n",
        "dic = {coord_sort[i]: i for i in range(len(coord_sort))} # key: 입력값, value: 인덱스\n",
        "for i in coord:\n",
        "  print(dic[i], end=\" \") "
      ],
      "metadata": {
        "colab": {
          "base_uri": "https://localhost:8080/"
        },
        "id": "CVpku-Y_RwT2",
        "outputId": "116fb5fe-a597-4e8f-e81e-43289cb7440b"
      },
      "execution_count": null,
      "outputs": [
        {
          "output_type": "stream",
          "name": "stdout",
          "text": [
            "5\n",
            "2 4 -10 4 -9\n",
            "2 3 0 3 1 "
          ]
        }
      ]
    },
    {
      "cell_type": "code",
      "source": [
        "import sys\n",
        "n = int(input())\n",
        "coord = list(map(int, sys.stdin.readline().split()))\n",
        "coord_sort = sorted(list(set(coord))) \n",
        "dic = {coord_sort[i]: i for i in range(len(coord_sort))}\n",
        "for i in coord:\n",
        "  print(dic[i], end=\" \")"
      ],
      "metadata": {
        "id": "ozjjZ0bmUA_J"
      },
      "execution_count": null,
      "outputs": []
    }
  ]
}