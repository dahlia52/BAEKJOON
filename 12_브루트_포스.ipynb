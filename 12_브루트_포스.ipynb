{
  "nbformat": 4,
  "nbformat_minor": 0,
  "metadata": {
    "colab": {
      "provenance": [],
      "authorship_tag": "ABX9TyPCAxGtJBrQJO+RgHZ2vZBM",
      "include_colab_link": true
    },
    "kernelspec": {
      "name": "python3",
      "display_name": "Python 3"
    },
    "language_info": {
      "name": "python"
    }
  },
  "cells": [
    {
      "cell_type": "markdown",
      "metadata": {
        "id": "view-in-github",
        "colab_type": "text"
      },
      "source": [
        "<a href=\"https://colab.research.google.com/github/dahlia52/BAEKJOON/blob/main/12_%EB%B8%8C%EB%A3%A8%ED%8A%B8_%ED%8F%AC%EC%8A%A4.ipynb\" target=\"_parent\"><img src=\"https://colab.research.google.com/assets/colab-badge.svg\" alt=\"Open In Colab\"/></a>"
      ]
    },
    {
      "cell_type": "markdown",
      "source": [
        "https://www.acmicpc.net/step/22"
      ],
      "metadata": {
        "id": "HP7L4DksJ8D_"
      }
    },
    {
      "cell_type": "markdown",
      "source": [
        "## 2798번 블랙잭"
      ],
      "metadata": {
        "id": "mcDB7DAmJ5Au"
      }
    },
    {
      "cell_type": "markdown",
      "source": [
        "카지노에서 제일 인기 있는 게임 블랙잭의 규칙은 상당히 쉽다. 카드의 합이 21을 넘지 않는 한도 내에서, 카드의 합을 최대한 크게 만드는 게임이다. 블랙잭은 카지노마다 다양한 규정이 있다.\n",
        "\n",
        "한국 최고의 블랙잭 고수 김정인은 새로운 블랙잭 규칙을 만들어 상근, 창영이와 게임하려고 한다.\n",
        "\n",
        "김정인 버전의 블랙잭에서 각 카드에는 양의 정수가 쓰여 있다. 그 다음, 딜러는 N장의 카드를 모두 숫자가 보이도록 바닥에 놓는다. 그런 후에 딜러는 숫자 M을 크게 외친다.\n",
        "\n",
        "이제 플레이어는 제한된 시간 안에 N장의 카드 중에서 3장의 카드를 골라야 한다. 블랙잭 변형 게임이기 때문에, 플레이어가 고른 카드의 합은 M을 넘지 않으면서 M과 최대한 가깝게 만들어야 한다.\n",
        "\n",
        "N장의 카드에 써져 있는 숫자가 주어졌을 때, M을 넘지 않으면서 M에 최대한 가까운 카드 3장의 합을 구해 출력하시오."
      ],
      "metadata": {
        "id": "FQFzYW5cKNnf"
      }
    },
    {
      "cell_type": "code",
      "execution_count": null,
      "metadata": {
        "colab": {
          "base_uri": "https://localhost:8080/"
        },
        "id": "X5vOgowrJ4ax",
        "outputId": "56b80226-b793-48b5-d793-4c9c7684e0e2"
      },
      "outputs": [
        {
          "output_type": "stream",
          "name": "stdout",
          "text": [
            "4 100\n",
            "50 2 5 800\n",
            "57\n"
          ]
        }
      ],
      "source": [
        "n, m = map(int, input().split())\n",
        "card = list(map(int, input().split()))\n",
        "card.insert(0,0)\n",
        "card.sort()\n",
        "sum1 = -1000000\n",
        "if n == 3:\n",
        "  sum1 = sum(card)\n",
        "else:\n",
        "  for i in range(1,n-1):\n",
        "    for j in range(i+1,n):\n",
        "      for w in range(j+1,n+1):\n",
        "        temp = card[i] + card[j] + card[w]\n",
        "        if temp <= m:\n",
        "          if m - temp < m - sum1:\n",
        "            sum1 = temp\n",
        "print(sum1)"
      ]
    },
    {
      "cell_type": "markdown",
      "source": [
        "- 2231번 분해합"
      ],
      "metadata": {
        "id": "xIJMEEPJKBnh"
      }
    },
    {
      "cell_type": "markdown",
      "source": [
        "어떤 자연수 N이 있을 때, 그 자연수 N의 분해합은 N과 N을 이루는 각 자리수의 합을 의미한다. 어떤 자연수 M의 분해합이 N인 경우, M을 N의 생성자라 한다. 예를 들어, 245의 분해합은 256(=245+2+4+5)이 된다. 따라서 245는 256의 생성자가 된다. 물론, 어떤 자연수의 경우에는 생성자가 없을 수도 있다. 반대로, 생성자가 여러 개인 자연수도 있을 수 있다.\n",
        "\n",
        "자연수 N이 주어졌을 때, N의 가장 작은 생성자를 구해내는 프로그램을 작성하시오."
      ],
      "metadata": {
        "id": "2e3cVQs6zUOh"
      }
    },
    {
      "cell_type": "markdown",
      "source": [
        "- n은 1이상 1000000 이하이므로 생성자는 최대 6자리이므로 각 자리수의 합은 최대 54\n",
        "\n",
        "-> 입력받은 값보다 54작은 수부터 확인하면 됨."
      ],
      "metadata": {
        "id": "VxHgPnDJz-7R"
      }
    },
    {
      "cell_type": "code",
      "source": [
        "n = int(input())\n",
        "def saengsungja(n):\n",
        "  if n <= 53: # 입력받은 수가 54보다 작다면\n",
        "    for i in range(1, n+1):\n",
        "      if (i+ sum([int(str(i)[j]) for j in range(len(str(i)))])) == n:\n",
        "        return i\n",
        "  else:\n",
        "    for i in range(n-54, n+1):\n",
        "      if (i + sum([int(str(i)[j]) for j in range(len(str(i)))])) == n:\n",
        "        return i\n",
        "  return 0\n",
        "saengsungja(n)"
      ],
      "metadata": {
        "colab": {
          "base_uri": "https://localhost:8080/"
        },
        "id": "OInB_cq0zTzw",
        "outputId": "2500efc2-7fd5-4e25-9a33-edc82b339430"
      },
      "execution_count": null,
      "outputs": [
        {
          "name": "stdout",
          "output_type": "stream",
          "text": [
            "1000000\n"
          ]
        },
        {
          "output_type": "execute_result",
          "data": {
            "text/plain": [
              "0"
            ]
          },
          "metadata": {},
          "execution_count": 31
        }
      ]
    },
    {
      "cell_type": "code",
      "source": [
        "n = int(input())  # 분해합을 입력값으로 받음\n",
        "\n",
        "for i in range(1, n+1):   # 해당 분해합의 생성자 찾기\n",
        "    num = sum((map(int, str(i))))  # i의 각 자릿수를 더함\n",
        "    num_sum = i + num  # 분해합 = 생성자 + 각 자릿수의 합\n",
        "    # i가 작은 수부터 차례로 들어가므로 처음으로 분해합과 입력값이 같을때가 가장 작은 생성자를 가짐\n",
        "    if num_sum == n:\n",
        "        print(i)\n",
        "        break\n",
        "    if i == n:  # 생성자 i와 입력값이 같다는 것은 생성자가 없다는 뜻\n",
        "        print(0)"
      ],
      "metadata": {
        "id": "oA0XoCv6KC0p",
        "colab": {
          "base_uri": "https://localhost:8080/"
        },
        "outputId": "e2c41deb-376e-4669-c07e-03b1be71b20d"
      },
      "execution_count": null,
      "outputs": [
        {
          "output_type": "stream",
          "name": "stdout",
          "text": [
            "1000000\n",
            "0\n"
          ]
        }
      ]
    },
    {
      "cell_type": "markdown",
      "source": [
        "- 7568번 덩치"
      ],
      "metadata": {
        "id": "_KHc0_xbKEKH"
      }
    },
    {
      "cell_type": "markdown",
      "source": [
        "우리는 사람의 덩치를 키와 몸무게, 이 두 개의 값으로 표현하여 그 등수를 매겨보려고 한다. 어떤 사람의 몸무게가 x kg이고 키가 y cm라면 이 사람의 덩치는 (x, y)로 표시된다. 두 사람 A 와 B의 덩치가 각각 (x, y), (p, q)라고 할 때 x > p 그리고 y > q 이라면 우리는 A의 덩치가 B의 덩치보다 \"더 크다\"고 말한다. 예를 들어 어떤 A, B 두 사람의 덩치가 각각 (56, 177), (45, 165) 라고 한다면 A의 덩치가 B보다 큰 셈이 된다. 그런데 서로 다른 덩치끼리 크기를 정할 수 없는 경우도 있다. 예를 들어 두 사람 C와 D의 덩치가 각각 (45, 181), (55, 173)이라면 몸무게는 D가 C보다 더 무겁고, 키는 C가 더 크므로, \"덩치\"로만 볼 때 C와 D는 누구도 상대방보다 더 크다고 말할 수 없다.\n",
        "\n",
        "N명의 집단에서 각 사람의 덩치 등수는 자신보다 더 \"큰 덩치\"의 사람의 수로 정해진다. 만일 자신보다 더 큰 덩치의 사람이 k명이라면 그 사람의 덩치 등수는 k+1이 된다. 이렇게 등수를 결정하면 같은 덩치 등수를 가진 사람은 여러 명도 가능하다. 아래는 5명으로 이루어진 집단에서 각 사람의 덩치와 그 등수가 표시된 표이다."
      ],
      "metadata": {
        "id": "ADjnqziebtvp"
      }
    },
    {
      "cell_type": "code",
      "source": [
        "n = int(input())\n",
        "ranking = []\n",
        "for i in range(n):\n",
        "  ranking.append(list(map(int, input().split())) + list([i]))\n",
        "ranking_sort = ranking.copy()\n",
        "ranking_sort.sort()\n",
        "for i in range(n):\n",
        "  cnt = 1\n",
        "  for j in range(i+1,n):\n",
        "    if ranking_sort[i][0] < ranking_sort[j][0] and ranking_sort[i][1] < ranking_sort[j][1]:\n",
        "      cnt +=1\n",
        "  ranking_sort[i].append(cnt)\n",
        "ranking_sort.sort(key=lambda x: x[2])\n",
        "for i in range(n):\n",
        "  print(ranking_sort[i][3], end=\" \")"
      ],
      "metadata": {
        "colab": {
          "base_uri": "https://localhost:8080/"
        },
        "id": "vixiefaDbtRJ",
        "outputId": "8bbf6f36-275c-4445-ea08-4a5c7ae134c6"
      },
      "execution_count": 3,
      "outputs": [
        {
          "output_type": "stream",
          "name": "stdout",
          "text": [
            "5\n",
            "55 185\n",
            "58 183\n",
            "88 186\n",
            "60 175\n",
            "46 155\n",
            "2 2 1 2 5 "
          ]
        }
      ]
    },
    {
      "cell_type": "code",
      "source": [
        "import sys\n",
        "n = int(input())\n",
        "ranking = []\n",
        "for i in range(n):\n",
        "  ranking.append(list(map(int, sys.stdin.readline().split())) + list([i]))\n",
        "ranking_sort = ranking.copy()\n",
        "ranking_sort.sort()\n",
        "for i in range(n):\n",
        "  cnt = 1\n",
        "  for j in range(i+1,n):\n",
        "    if ranking_sort[i][0] < ranking_sort[j][0] and ranking_sort[i][1] < ranking_sort[j][1]:\n",
        "      cnt +=1\n",
        "  ranking_sort[i].append(cnt)\n",
        "ranking_sort.sort(key=lambda x: x[2])\n",
        "for i in range(n):\n",
        "  print(ranking_sort[i][3], end=\" \")"
      ],
      "metadata": {
        "id": "nrX-_9aFjcuG"
      },
      "execution_count": null,
      "outputs": []
    },
    {
      "cell_type": "markdown",
      "source": [
        "- 1018번 체스판 다시 칠하기"
      ],
      "metadata": {
        "id": "ijA5ncuCKGXO"
      }
    },
    {
      "cell_type": "code",
      "source": [],
      "metadata": {
        "id": "9HICbreAKIDm"
      },
      "execution_count": null,
      "outputs": []
    },
    {
      "cell_type": "markdown",
      "source": [
        "- 1436번 영화감독 숌"
      ],
      "metadata": {
        "id": "yG_VE7uNKJT3"
      }
    },
    {
      "cell_type": "markdown",
      "source": [
        "666은 종말을 나타내는 숫자라고 한다. 따라서, 많은 블록버스터 영화에서는 666이 들어간 제목을 많이 사용한다. 영화감독 숌은 세상의 종말 이라는 시리즈 영화의 감독이다. 조지 루카스는 스타워즈를 만들 때, 스타워즈 1, 스타워즈 2, 스타워즈 3, 스타워즈 4, 스타워즈 5, 스타워즈 6과 같이 이름을 지었고, 피터 잭슨은 반지의 제왕을 만들 때, 반지의 제왕 1, 반지의 제왕 2, 반지의 제왕 3과 같이 영화 제목을 지었다.\n",
        "\n",
        "하지만 숌은 자신이 조지 루카스와 피터 잭슨을 뛰어넘는다는 것을 보여주기 위해서 영화 제목을 좀 다르게 만들기로 했다.\n",
        "\n",
        "종말의 숫자란 어떤 수에 6이 적어도 3개이상 연속으로 들어가는 수를 말한다. 제일 작은 종말의 숫자는 666이고, 그 다음으로 큰 수는 1666, 2666, 3666, .... 과 같다.\n",
        "\n",
        "따라서, 숌은 첫 번째 영화의 제목은 세상의 종말 666, 두 번째 영화의 제목은 세상의 종말 1666 이렇게 이름을 지을 것이다. 일반화해서 생각하면, N번째 영화의 제목은 세상의 종말 (N번째로 작은 종말의 숫자) 와 같다.\n",
        "\n",
        "숌이 만든 N번째 영화의 제목에 들어간 숫자를 출력하는 프로그램을 작성하시오. 숌은 이 시리즈를 항상 차례대로 만들고, 다른 영화는 만들지 않는다."
      ],
      "metadata": {
        "id": "RDqgL8rBXz5a"
      }
    },
    {
      "cell_type": "markdown",
      "source": [
        "666, 1666, 2666, ..., 5666, 6660, 6661, ..., 6669, 7666, 8666, 9666 => 가능한 경우의 수: 2*9 + 1 = 19\n",
        "\n",
        "10666, 11666, ..., 16660, 16661, ..., 16669, 17666, ..., 19666\n",
        "\n",
        "20666, ...\n",
        "\n"
      ],
      "metadata": {
        "id": "kym4rtA7b9pt"
      }
    },
    {
      "cell_type": "markdown",
      "source": [
        "- ____ (네 자리까지): 2*9 + 1\n",
        "\n",
        "- _____ (다섯 자리까지): 3*9*9 + 2*"
      ],
      "metadata": {
        "id": "O9szvbROeYDY"
      }
    },
    {
      "cell_type": "code",
      "source": [],
      "metadata": {
        "id": "8KLKJx6hXxsx"
      },
      "execution_count": null,
      "outputs": []
    },
    {
      "cell_type": "code",
      "source": [],
      "metadata": {
        "id": "oR9vx6qtXxvf"
      },
      "execution_count": null,
      "outputs": []
    }
  ]
}